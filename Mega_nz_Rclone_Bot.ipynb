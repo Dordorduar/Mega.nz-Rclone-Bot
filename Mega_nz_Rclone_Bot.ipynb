{
  "nbformat": 4,
  "nbformat_minor": 0,
  "metadata": {
    "colab": {
      "provenance": []
    },
    "kernelspec": {
      "name": "python3",
      "display_name": "Python 3"
    },
    "language_info": {
      "name": "python"
    }
  },
  "cells": [
    {
      "cell_type": "code",
      "execution_count": null,
      "metadata": {
        "cellView": "form",
        "id": "AjXGquId1IVn"
      },
      "outputs": [],
      "source": [
        "#@title 🔶Bot Setup🔶\n",
        "\n",
        "Config_ENV_URL = \"\" #@param {type:\"string\"}\n",
        "\n",
        "\n",
        "from os.path import exists, expanduser\n",
        "from urllib.request import urlretrieve\n",
        "from IPython.display import clear_output\n",
        "from google.colab.output import clear\n",
        "\n",
        "\n",
        "HOME = expanduser(\"~\")\n",
        "if not exists(f\"{HOME}/.ipython/ocr.py\"):\n",
        "    hCode = \"https://raw.githubusercontent.com/biplobsd/\" \\\n",
        "                \"OneClickRun/master/res/ocr.py\"\n",
        "    urlretrieve(hCode, f\"{HOME}/.ipython/ocr.py\")\n",
        "from ocr import (\n",
        "    runSh,\n",
        "    loadingAn,\n",
        ")\n",
        "\n",
        "REPO = \"https://github.com/sahilgit55/Mega.nz-Rclone-Bot.git\"\n",
        "CD = REPO.split(\"/\")[-1].replace(\".git\", \"\")\n",
        "\n",
        "# loadingAn()\n",
        "runSh(f'git clone {REPO}')\n",
        "%cd $CD\n",
        "clear()\n",
        "print(\"🔶Installing Mega\")\n",
        "runSh('sudo apt-get -y update')\n",
        "runSh('sudo apt-get -y install libmms0 libc-ares2 libcrypto++6 libgcc1 libmediainfo0v5 libzen0v5 apt-transport-https')\n",
        "runSh('sudo curl -sL -o /var/cache/apt/archives/MEGAcmd.deb https://mega.nz/linux/MEGAsync/Debian_9.0/amd64/megacmd-Debian_9.0_amd64.deb')\n",
        "runSh('sudo dpkg -i /var/cache/apt/archives/MEGAcmd.deb')\n",
        "print(\"🔶Installing Rclone\")\n",
        "runSh('wget https://rclone.org/install.sh')\n",
        "runSh('sudo bash install.sh')\n",
        "runSh(f'wget -O config.env {Config_ENV_URL}')\n",
        "print(\"🔶Installing Requirements\")\n",
        "runSh('pip install -r requirements.txt')\n",
        "clear_output()\n",
        "\n",
        "!python3 main.py"
      ]
    }
  ]
}